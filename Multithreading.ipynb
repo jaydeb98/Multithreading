{
 "cells": [
  {
   "cell_type": "code",
   "execution_count": 1,
   "id": "91acf449-2f80-45d8-b44b-a0698b691cb4",
   "metadata": {},
   "outputs": [],
   "source": [
    "#1. \n",
    "\n",
    "Multithreading in Python involves running multiple threads within a single process to achieve concurrent execution. \n",
    "It's used for tasks like I/O-bound operations. \n",
    "The threading module is used to manage threads, enabling creation, execution, and synchronization."
   ]
  },
  {
   "cell_type": "code",
   "execution_count": null,
   "id": "69b14751-5a33-456d-80de-82a32d72398d",
   "metadata": {},
   "outputs": [],
   "source": [
    "#2.\n",
    "\n",
    "The threading module in Python is used to manage threads, enabling concurrent execution of tasks within a single process. \n",
    "It provides a high-level interface to create, control, and synchronize threads.\n",
    "\n",
    "Here are the uses of the mentioned functions from the threading module:\n",
    "\n",
    "1. activeCount(): This function returns the number of Thread objects currently alive. \n",
    "It provides a count of the currently active threads in the program.\n",
    "\n",
    "2. currentThread(): This function returns the Thread object corresponding to the calling thread. \n",
    "It's useful to obtain information about the thread that is currently executing the code.\n",
    "\n",
    "3. enumerate(): This function returns a list of all Thread objects currently alive. \n",
    "It's particularly useful for inspecting or managing the active threads in the program."
   ]
  },
  {
   "cell_type": "code",
   "execution_count": null,
   "id": "75f031ca-5899-4298-9d9a-ee3ab66720bc",
   "metadata": {},
   "outputs": [],
   "source": [
    "#3. \n",
    "\n",
    "1. run(): Defines the thread's task, executed when start() is called.\n",
    "\n",
    "2. start(): Initiates a thread's execution by invoking its run() method.\n",
    "\n",
    "3. join(): Blocks the main program until the thread finishes its task.\n",
    "\n",
    "4. isAlive(): Checks if a thread is currently running (True) or finished (False)."
   ]
  },
  {
   "cell_type": "code",
   "execution_count": 4,
   "id": "6c3c2b58-2e95-40d6-8e6f-cad013a671de",
   "metadata": {},
   "outputs": [
    {
     "name": "stdout",
     "output_type": "stream",
     "text": [
      "Square of 1: 1\n",
      "Square of 2: 4\n",
      "Square of 3: 9\n",
      "Square of 4: 16\n",
      "Square of 5: 25\n",
      "Cube of 1: 1\n",
      "Cube of 2: 8\n",
      "Cube of 3: 27\n",
      "Cube of 4: 64\n",
      "Cube of 5: 125\n"
     ]
    }
   ],
   "source": [
    "#4. \n",
    "\n",
    "import threading\n",
    "\n",
    "def print_squares(numbers):\n",
    "    for i in numbers:\n",
    "        print(f\"Square of {i}: {i ** 2}\")\n",
    "\n",
    "def print_cubes(numbers):\n",
    "    for i in numbers:\n",
    "        print(f\"Cube of {i}: {i ** 3}\")\n",
    "\n",
    "numbers = [1, 2, 3, 4, 5]\n",
    "\n",
    "\n",
    "thread1 = threading.Thread(target=print_squares, args=(numbers,))\n",
    "thread2 = threading.Thread(target=print_cubes, args=(numbers,))\n",
    "\n",
    "\n",
    "thread1.start()\n",
    "thread2.start()\n",
    "\n"
   ]
  },
  {
   "cell_type": "code",
   "execution_count": null,
   "id": "b0b55442-fd3b-4a09-bdb9-a068c24f23f9",
   "metadata": {},
   "outputs": [],
   "source": [
    "#5.\n",
    "\n",
    "Multithreading offers several advantages and disadvantages that you should consider when deciding whether to use it in your applications:\n",
    "    \n",
    "Advantages:\n",
    "\n",
    "Concurrency: Simultaneous execution of tasks for improved performance.\n",
    "Resource Sharing: Efficient data and resource sharing between threads.\n",
    "Quick Response: Responsive user interfaces by preventing UI freezing.\n",
    "I/O-Bound Efficiency: Effective for tasks involving waiting on I/O operations.\n",
    "Cost-Efficient: Lower resource overhead compared to separate processes.\n",
    "\n",
    "Disadvantages:\n",
    "\n",
    "Complexity: Introduces race conditions, synchronization issues, and deadlocks.\n",
    "GIL Limitations: Limited parallelism in Python due to the Global Interpreter Lock.\n",
    "Debugging Challenges: Non-deterministic behavior complicates debugging.\n",
    "Increased Memory Usage: Threads share memory, potentially leading to higher consumption."
   ]
  },
  {
   "cell_type": "code",
   "execution_count": null,
   "id": "3c103d20-796b-4ca0-8424-35197d1c23d5",
   "metadata": {},
   "outputs": [],
   "source": [
    "Deadlocks:\n",
    "A deadlock is a situation that occurs in a multithreaded or multiprocess environment where two or more threads or processes are unable to proceed because they are each waiting for a resource that the other holds. In other words, it's a scenario where threads are stuck in a circular wait, preventing any of them from making progress. Deadlocks can lead to a complete halt of the program or system, requiring external intervention to resolve.\n",
    "\n",
    "For example, consider two threads, Thread A and Thread B, where Thread A holds Resource 1 and waits for Resource 2, while Thread B holds Resource 2 and waits for Resource 1. This creates a deadlock situation because neither thread can proceed without the resource that the other holds.\n",
    "\n",
    "Race Conditions:\n",
    "A race condition is a situation that occurs when two or more threads (or processes) access shared data or resources concurrently, and the final outcome depends on the order in which the threads are scheduled to run. The result of a race condition can be unpredictable and lead to incorrect behavior or data corruption.\n",
    "\n",
    "For example, consider a scenario where two threads, Thread X and Thread Y, are updating a shared variable simultaneously. If the update operation is not properly synchronized, the final value of the variable can depend on the timing of the threads, leading to unexpected results."
   ]
  }
 ],
 "metadata": {
  "kernelspec": {
   "display_name": "Python 3 (ipykernel)",
   "language": "python",
   "name": "python3"
  },
  "language_info": {
   "codemirror_mode": {
    "name": "ipython",
    "version": 3
   },
   "file_extension": ".py",
   "mimetype": "text/x-python",
   "name": "python",
   "nbconvert_exporter": "python",
   "pygments_lexer": "ipython3",
   "version": "3.10.8"
  }
 },
 "nbformat": 4,
 "nbformat_minor": 5
}
